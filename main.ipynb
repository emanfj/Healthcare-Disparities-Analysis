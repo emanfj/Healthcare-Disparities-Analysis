{
  "nbformat": 4,
  "nbformat_minor": 0,
  "metadata": {
    "colab": {
      "provenance": [],
      "authorship_tag": "ABX9TyNsMqbKR7M4MrhMFFbO6FR3",
      "include_colab_link": true
    },
    "kernelspec": {
      "name": "python3",
      "display_name": "Python 3"
    },
    "language_info": {
      "name": "python"
    }
  },
  "cells": [
    {
      "cell_type": "markdown",
      "metadata": {
        "id": "view-in-github",
        "colab_type": "text"
      },
      "source": [
        "<a href=\"https://colab.research.google.com/github/emanfj/Healthcare-Disparitites-Analysis/blob/main/main.ipynb\" target=\"_parent\"><img src=\"https://colab.research.google.com/assets/colab-badge.svg\" alt=\"Open In Colab\"/></a>"
      ]
    },
    {
      "cell_type": "code",
      "execution_count": null,
      "metadata": {
        "colab": {
          "base_uri": "https://localhost:8080/"
        },
        "id": "5I5MVXXyRk48",
        "outputId": "16108d0f-87e6-4edc-97cb-54ba5adf43c6"
      },
      "outputs": [
        {
          "output_type": "stream",
          "name": "stdout",
          "text": [
            "Mounted at /content/drive\n"
          ]
        }
      ],
      "source": [
        "from google.colab import drive\n",
        "drive.mount('/content/drive')"
      ]
    },
    {
      "cell_type": "code",
      "source": [
        "import pandas as pd\n",
        "demographics = pd.read_csv('/content/drive/MyDrive/2017_census.csv')\n",
        "heart_disease = pd.read_csv('/content/drive/MyDrive/heart_2022_no_nans.csv')\n",
        "print(demographics.shape,heart_disease.shape)"
      ],
      "metadata": {
        "id": "TI1Z-1f3YUfF"
      },
      "execution_count": null,
      "outputs": []
    },
    {
      "cell_type": "code",
      "source": [
        "demographics.info()"
      ],
      "metadata": {
        "colab": {
          "base_uri": "https://localhost:8080/"
        },
        "id": "rdiCW664wC7y",
        "outputId": "3763ccfa-7ba3-45c4-b8a7-5aeba3c4d3a3"
      },
      "execution_count": null,
      "outputs": [
        {
          "output_type": "stream",
          "name": "stdout",
          "text": [
            "<class 'pandas.core.frame.DataFrame'>\n",
            "RangeIndex: 74001 entries, 0 to 74000\n",
            "Data columns (total 37 columns):\n",
            " #   Column                Non-Null Count  Dtype  \n",
            "---  ------                --------------  -----  \n",
            " 0   TractId               74001 non-null  int64  \n",
            " 1   State                 74001 non-null  object \n",
            " 2   County                74001 non-null  object \n",
            " 3   TotalPopulation       74001 non-null  int64  \n",
            " 4   Men                   74001 non-null  int64  \n",
            " 5   Women                 74001 non-null  int64  \n",
            " 6   Hispanic              73305 non-null  float64\n",
            " 7   White                 73305 non-null  float64\n",
            " 8   Black                 73305 non-null  float64\n",
            " 9   Native                73305 non-null  float64\n",
            " 10  Asian                 73305 non-null  float64\n",
            " 11  Pacific               73305 non-null  float64\n",
            " 12  VotingAgeCitizen      74001 non-null  int64  \n",
            " 13  Income                72885 non-null  float64\n",
            " 14  IncomeError           72885 non-null  float64\n",
            " 15  IncomePerCapita       73256 non-null  float64\n",
            " 16  IncomePerCapitaError  73256 non-null  float64\n",
            " 17  Poverty               73159 non-null  float64\n",
            " 18  ChildPoverty          72891 non-null  float64\n",
            " 19  Professional          73190 non-null  float64\n",
            " 20  Service               73190 non-null  float64\n",
            " 21  Office                73190 non-null  float64\n",
            " 22  Construction          73190 non-null  float64\n",
            " 23  Production            73190 non-null  float64\n",
            " 24  Drive                 73200 non-null  float64\n",
            " 25  Carpool               73200 non-null  float64\n",
            " 26  Transit               73200 non-null  float64\n",
            " 27  Walk                  73200 non-null  float64\n",
            " 28  OtherTransportation   73200 non-null  float64\n",
            " 29  WorkAtHome            73200 non-null  float64\n",
            " 30  MeanCommute           73055 non-null  float64\n",
            " 31  Employed              74001 non-null  int64  \n",
            " 32  PrivateWork           73190 non-null  float64\n",
            " 33  PublicWork            73190 non-null  float64\n",
            " 34  SelfEmployed          73190 non-null  float64\n",
            " 35  FamilyWork            73190 non-null  float64\n",
            " 36  Unemployment          73191 non-null  float64\n",
            "dtypes: float64(29), int64(6), object(2)\n",
            "memory usage: 20.9+ MB\n"
          ]
        }
      ]
    },
    {
      "cell_type": "code",
      "source": [
        "heart_disease.info()"
      ],
      "metadata": {
        "colab": {
          "base_uri": "https://localhost:8080/"
        },
        "id": "EzjSFEQywHUS",
        "outputId": "512f6bd7-ec1a-439f-9a19-12099ffcbe4f"
      },
      "execution_count": null,
      "outputs": [
        {
          "output_type": "stream",
          "name": "stdout",
          "text": [
            "<class 'pandas.core.frame.DataFrame'>\n",
            "RangeIndex: 246022 entries, 0 to 246021\n",
            "Data columns (total 40 columns):\n",
            " #   Column                     Non-Null Count   Dtype  \n",
            "---  ------                     --------------   -----  \n",
            " 0   State                      246022 non-null  object \n",
            " 1   Sex                        246022 non-null  object \n",
            " 2   GeneralHealth              246022 non-null  object \n",
            " 3   PhysicalHealthDays         246022 non-null  int64  \n",
            " 4   MentalHealthDays           246022 non-null  int64  \n",
            " 5   LastCheckupTime            246022 non-null  object \n",
            " 6   PhysicalActivities         246022 non-null  object \n",
            " 7   SleepHours                 246022 non-null  int64  \n",
            " 8   RemovedTeeth               246022 non-null  object \n",
            " 9   HadHeartAttack             246022 non-null  object \n",
            " 10  HadAngina                  246022 non-null  object \n",
            " 11  HadStroke                  246022 non-null  object \n",
            " 12  HadAsthma                  246022 non-null  object \n",
            " 13  HadSkinCancer              246022 non-null  object \n",
            " 14  HadCOPD                    246022 non-null  object \n",
            " 15  HadDepressiveDisorder      246022 non-null  object \n",
            " 16  HadKidneyDisease           246022 non-null  object \n",
            " 17  HadArthritis               246022 non-null  object \n",
            " 18  HadDiabetes                246022 non-null  object \n",
            " 19  DeafOrHardOfHearing        246022 non-null  object \n",
            " 20  BlindOrVisionDifficulty    246022 non-null  object \n",
            " 21  DifficultyConcentrating    246022 non-null  object \n",
            " 22  DifficultyWalking          246022 non-null  object \n",
            " 23  DifficultyDressingBathing  246022 non-null  object \n",
            " 24  DifficultyErrands          246022 non-null  object \n",
            " 25  SmokerStatus               246022 non-null  object \n",
            " 26  ECigaretteUsage            246022 non-null  object \n",
            " 27  ChestScan                  246022 non-null  object \n",
            " 28  RaceEthnicityCategory      246022 non-null  object \n",
            " 29  AgeCategory                246022 non-null  object \n",
            " 30  HeightInMeters             246022 non-null  float64\n",
            " 31  WeightInKilograms          246022 non-null  float64\n",
            " 32  BMI                        246022 non-null  float64\n",
            " 33  AlcoholDrinkers            246022 non-null  object \n",
            " 34  HIVTesting                 246022 non-null  object \n",
            " 35  FluVaxLast12               246022 non-null  object \n",
            " 36  PneumoVaxEver              246022 non-null  object \n",
            " 37  TetanusLast10Tdap          246022 non-null  object \n",
            " 38  HighRiskLastYear           246022 non-null  object \n",
            " 39  CovidPos                   246022 non-null  object \n",
            "dtypes: float64(3), int64(3), object(34)\n",
            "memory usage: 75.1+ MB\n"
          ]
        }
      ]
    },
    {
      "cell_type": "code",
      "source": [
        "#formatting of columns\n",
        "demographics = demographics.rename(columns={'TotalPop':'TotalPopulation','IncomeErr':'IncomeError','IncomePerCap':'IncomePerCapita','IncomePerCapErr':'IncomePerCapitaError','OtherTransp':'OtherTransportation',})"
      ],
      "metadata": {
        "id": "LXEDZdXDt6Au"
      },
      "execution_count": null,
      "outputs": []
    },
    {
      "cell_type": "code",
      "source": [
        "demographics.isnull().sum()"
      ],
      "metadata": {
        "colab": {
          "base_uri": "https://localhost:8080/"
        },
        "id": "N1nQ9HO2vQJ3",
        "outputId": "5cd740a9-6a04-4e54-db48-805b6e05ba4b"
      },
      "execution_count": null,
      "outputs": [
        {
          "output_type": "execute_result",
          "data": {
            "text/plain": [
              "TractId                    0\n",
              "State                      0\n",
              "County                     0\n",
              "TotalPopulation            0\n",
              "Men                        0\n",
              "Women                      0\n",
              "Hispanic                 696\n",
              "White                    696\n",
              "Black                    696\n",
              "Native                   696\n",
              "Asian                    696\n",
              "Pacific                  696\n",
              "VotingAgeCitizen           0\n",
              "Income                  1116\n",
              "IncomeError             1116\n",
              "IncomePerCapita          745\n",
              "IncomePerCapitaError     745\n",
              "Poverty                  842\n",
              "ChildPoverty            1110\n",
              "Professional             811\n",
              "Service                  811\n",
              "Office                   811\n",
              "Construction             811\n",
              "Production               811\n",
              "Drive                    801\n",
              "Carpool                  801\n",
              "Transit                  801\n",
              "Walk                     801\n",
              "OtherTransportation      801\n",
              "WorkAtHome               801\n",
              "MeanCommute              946\n",
              "Employed                   0\n",
              "PrivateWork              811\n",
              "PublicWork               811\n",
              "SelfEmployed             811\n",
              "FamilyWork               811\n",
              "Unemployment             810\n",
              "dtype: int64"
            ]
          },
          "metadata": {},
          "execution_count": 12
        }
      ]
    },
    {
      "cell_type": "code",
      "source": [
        "# calculate the percentage of missing values in each column\n",
        "missing_percentage = (demographics.isnull().sum() / demographics.shape[0]) * 100\n",
        "\n",
        "# print the missing value percentage for each column\n",
        "print(\"Missing value percentage for each column:\")\n",
        "print(missing_percentage)"
      ],
      "metadata": {
        "colab": {
          "base_uri": "https://localhost:8080/"
        },
        "id": "m6hIVLBYwkv-",
        "outputId": "101247c3-5aca-49d7-df14-58e77715e337"
      },
      "execution_count": null,
      "outputs": [
        {
          "output_type": "stream",
          "name": "stdout",
          "text": [
            "Missing value percentage for each column:\n",
            "TractId                 0.000000\n",
            "State                   0.000000\n",
            "County                  0.000000\n",
            "TotalPopulation         0.000000\n",
            "Men                     0.000000\n",
            "Women                   0.000000\n",
            "Hispanic                0.940528\n",
            "White                   0.940528\n",
            "Black                   0.940528\n",
            "Native                  0.940528\n",
            "Asian                   0.940528\n",
            "Pacific                 0.940528\n",
            "VotingAgeCitizen        0.000000\n",
            "Income                  1.508088\n",
            "IncomeError             1.508088\n",
            "IncomePerCapita         1.006743\n",
            "IncomePerCapitaError    1.006743\n",
            "Poverty                 1.137822\n",
            "ChildPoverty            1.499980\n",
            "Professional            1.095931\n",
            "Service                 1.095931\n",
            "Office                  1.095931\n",
            "Construction            1.095931\n",
            "Production              1.095931\n",
            "Drive                   1.082418\n",
            "Carpool                 1.082418\n",
            "Transit                 1.082418\n",
            "Walk                    1.082418\n",
            "OtherTransportation     1.082418\n",
            "WorkAtHome              1.082418\n",
            "MeanCommute             1.278361\n",
            "Employed                0.000000\n",
            "PrivateWork             1.095931\n",
            "PublicWork              1.095931\n",
            "SelfEmployed            1.095931\n",
            "FamilyWork              1.095931\n",
            "Unemployment            1.094580\n",
            "dtype: float64\n"
          ]
        }
      ]
    },
    {
      "cell_type": "code",
      "source": [
        "numerical_columns = demographics.select_dtypes(include=['int64', 'float64']).columns\n",
        "for column in numerical_columns:\n",
        "    if demographics[column].isnull().any():\n",
        "        mean_value = demographics[column].mean()\n",
        "        demographics[column].fillna(mean_value, inplace=True)"
      ],
      "metadata": {
        "id": "BxD3ldAJ-xst"
      },
      "execution_count": null,
      "outputs": []
    },
    {
      "cell_type": "markdown",
      "source": [
        "### Insights:\n",
        "1. High risk groups: which demographic factors correlate with a higher prevalance of heart disease Target-> preventive healthcare initaitves for high risk populations.\n",
        "2. Identify socio-economic factors that might influence access to healthcare or healthy lifestyles, potentially leading to higher heart disease risk.\n",
        "3. Investigate how factors like physical activity, sleep patterns, smoking status, and alcohol consumption relate to heart disease risk within different demographic groups.\n",
        "4. Analyze if there are variations in risk factors based on geographic location (CensusTract data).\n",
        "5. Use machine learning algorithms to develop a model that predicts heart disease risk based on a combination of demographic and health data. This model can be used for early detection and intervention.\n",
        "6. Analyze healthcare resource utilization (hospitals, specialists) in areas with high heart disease risk. This can help optimize resource allocation and improve preventative care accessibility.\n",
        "7. Conduct geospatial analysis to map the distribution of heart diseases and demographic characteristics at a regional or local level. Identify areas with higher disease burden and demographic disparities, which can inform targeted interventions and resource allocation.\n"
      ],
      "metadata": {
        "id": "2_mHWQPGACvY"
      }
    },
    {
      "cell_type": "code",
      "source": [],
      "metadata": {
        "id": "IUpA1eCbAEbA"
      },
      "execution_count": null,
      "outputs": []
    }
  ]
}