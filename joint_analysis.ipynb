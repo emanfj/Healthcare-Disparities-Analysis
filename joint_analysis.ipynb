{
  "cells": [
    {
      "cell_type": "markdown",
      "metadata": {
        "id": "view-in-github",
        "colab_type": "text"
      },
      "source": [
        "<a href=\"https://colab.research.google.com/github/emanfj/Healthcare-Disparities-Analysis/blob/main/joint_analysis.ipynb\" target=\"_parent\"><img src=\"https://colab.research.google.com/assets/colab-badge.svg\" alt=\"Open In Colab\"/></a>"
      ]
    },
    {
      "cell_type": "markdown",
      "source": [
        "have not tested ram crashed ;("
      ],
      "metadata": {
        "id": "Ohmi45GUWX2Q"
      }
    },
    {
      "cell_type": "code",
      "execution_count": 1,
      "metadata": {
        "colab": {
          "base_uri": "https://localhost:8080/"
        },
        "id": "oRflTWHUBHfE",
        "outputId": "1d6faa74-c323-4c0f-8196-ba2826e713ec"
      },
      "outputs": [
        {
          "output_type": "stream",
          "name": "stdout",
          "text": [
            "Drive already mounted at /content/drive; to attempt to forcibly remount, call drive.mount(\"/content/drive\", force_remount=True).\n"
          ]
        }
      ],
      "source": [
        "from google.colab import drive,files\n",
        "drive.mount('/content/drive')"
      ]
    },
    {
      "cell_type": "code",
      "execution_count": 2,
      "metadata": {
        "id": "nadUxsbnBKZ_"
      },
      "outputs": [],
      "source": [
        "# necessary imports\n",
        "import pandas as pd\n",
        "from sklearn.model_selection import train_test_split\n",
        "from sklearn.linear_model import LogisticRegression\n",
        "from sklearn.tree import DecisionTreeClassifier\n",
        "from sklearn.ensemble import RandomForestClassifier\n",
        "from sklearn.model_selection import GridSearchCV"
      ]
    },
    {
      "cell_type": "code",
      "execution_count": 3,
      "metadata": {
        "id": "ImQWc92JBYbL"
      },
      "outputs": [],
      "source": [
        "# loading both datasets\n",
        "healthcare_data = pd.read_csv('/content/drive/MyDrive/processed_census2017.csv')\n",
        "census_data = pd.read_csv('/content/drive/MyDrive/heart_2022_no_nans.csv')"
      ]
    },
    {
      "cell_type": "markdown",
      "source": [
        "Identify populations at higher risk for specific health conditions"
      ],
      "metadata": {
        "id": "uESPMDmVWwrc"
      }
    },
    {
      "cell_type": "code",
      "execution_count": null,
      "metadata": {
        "id": "mvPkgAn7A2JF"
      },
      "outputs": [],
      "source": [
        "# merging datasets on State column\n",
        "merged_data = healthcare_data.merge(census_data, on='State')\n",
        "\n",
        "def train_and_evaluate_models(target_variable, features):\n",
        "  \"\"\"\n",
        "  Trains and evaluates different models for a given target variable and feature set.\n",
        "\n",
        "  Args:\n",
        "      target_variable: The name of the target variable in the merged data.\n",
        "      features: A list of feature names to use for training.\n",
        "  \"\"\"\n",
        "  # splitting data into training and testing sets\n",
        "  X_train, X_test, y_train, y_test = train_test_split(merged_data[features], merged_data[target_variable], test_size=0.2, random_state=42)\n",
        "\n",
        "  # defining models and their hyperparameter grids for tuning (adjust as needed)\n",
        "  models = {\n",
        "      'Logistic Regression': LogisticRegression(),\n",
        "      'Decision Tree': DecisionTreeClassifier(max_depth=[3, 5, 7]),\n",
        "      'Random Forest': RandomForestClassifier(n_estimators=[100, 200], max_depth=[5, 8])\n",
        "  }\n",
        "\n",
        "  # performing hyperparameter tuning with GridSearchCV\n",
        "  for model_name, model in models.items():\n",
        "    tuned_model = GridSearchCV(model, param_grid=models[model_name], cv=5, scoring='accuracy')\n",
        "    tuned_model.fit(X_train, y_train)\n",
        "    best_model = tuned_model.best_estimator_\n",
        "    accuracy = best_model.score(X_test, y_test)\n",
        "    print(f\"{model_name} Accuracy (Tuned): {accuracy:.2f}\")\n",
        "\n",
        "  # training and evaluate base models (without tuning)\n",
        "  for model_name, model in models.items():\n",
        "    model.fit(X_train, y_train)\n",
        "    accuracy = model.score(X_test, y_test)\n",
        "    print(f\"{model_name} Accuracy: {accuracy:.2f}\")\n",
        "\n",
        "# defining features (change after testing)\n",
        "features = ['Age', 'Race', 'Income', 'Commute_Method']\n",
        "# defining potential target variables\n",
        "target_variables = ['Heart_Disease', 'Diabetes', 'Obesity']\n",
        "\n",
        "# loop through target variables and train models for each\n",
        "for target_variable in target_variables:\n",
        "  print(f\"\\nTarget Variable: {target_variable}\")\n",
        "  train_and_evaluate_models(target_variable, features)\n"
      ]
    }
  ],
  "metadata": {
    "colab": {
      "provenance": [],
      "authorship_tag": "ABX9TyNZqEKFVAdmcwzh+U7fDEOP",
      "include_colab_link": true
    },
    "kernelspec": {
      "display_name": "Python 3",
      "name": "python3"
    },
    "language_info": {
      "name": "python"
    }
  },
  "nbformat": 4,
  "nbformat_minor": 0
}