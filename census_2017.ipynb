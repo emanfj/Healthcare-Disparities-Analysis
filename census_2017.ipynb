{
  "nbformat": 4,
  "nbformat_minor": 0,
  "metadata": {
    "colab": {
      "provenance": [],
      "authorship_tag": "ABX9TyOs6d6Slo7pApZk2WBvFS3k",
      "include_colab_link": true
    },
    "kernelspec": {
      "name": "python3",
      "display_name": "Python 3"
    },
    "language_info": {
      "name": "python"
    }
  },
  "cells": [
    {
      "cell_type": "markdown",
      "metadata": {
        "id": "view-in-github",
        "colab_type": "text"
      },
      "source": [
        "<a href=\"https://colab.research.google.com/github/emanfj/Healthcare-Disparities-Analysis/blob/main/census_2017.ipynb\" target=\"_parent\"><img src=\"https://colab.research.google.com/assets/colab-badge.svg\" alt=\"Open In Colab\"/></a>"
      ]
    },
    {
      "cell_type": "code",
      "execution_count": 2,
      "metadata": {
        "colab": {
          "base_uri": "https://localhost:8080/"
        },
        "id": "6aWXZPLQo7b8",
        "outputId": "5264ace5-c9fb-420e-dcc9-3b6bc8f608c0"
      },
      "outputs": [
        {
          "output_type": "stream",
          "name": "stdout",
          "text": [
            "Mounted at /content/drive\n"
          ]
        }
      ],
      "source": [
        "from google.colab import drive\n",
        "drive.mount('/content/drive')"
      ]
    },
    {
      "cell_type": "code",
      "source": [
        "!pip install pyspark"
      ],
      "metadata": {
        "colab": {
          "base_uri": "https://localhost:8080/"
        },
        "id": "sSQjPeOzphxq",
        "outputId": "dd70fbeb-eafc-4038-a837-6fcc0bc16173"
      },
      "execution_count": 3,
      "outputs": [
        {
          "output_type": "stream",
          "name": "stdout",
          "text": [
            "Collecting pyspark\n",
            "  Downloading pyspark-3.5.1.tar.gz (317.0 MB)\n",
            "\u001b[2K     \u001b[90m━━━━━━━━━━━━━━━━━━━━━━━━━━━━━━━━━━━━━━━━\u001b[0m \u001b[32m317.0/317.0 MB\u001b[0m \u001b[31m1.7 MB/s\u001b[0m eta \u001b[36m0:00:00\u001b[0m\n",
            "\u001b[?25h  Preparing metadata (setup.py) ... \u001b[?25l\u001b[?25hdone\n",
            "Requirement already satisfied: py4j==0.10.9.7 in /usr/local/lib/python3.10/dist-packages (from pyspark) (0.10.9.7)\n",
            "Building wheels for collected packages: pyspark\n",
            "  Building wheel for pyspark (setup.py) ... \u001b[?25l\u001b[?25hdone\n",
            "  Created wheel for pyspark: filename=pyspark-3.5.1-py2.py3-none-any.whl size=317488491 sha256=8766add7888950bcde5421913c514a27c246fc455ea138129052b6fe18714328\n",
            "  Stored in directory: /root/.cache/pip/wheels/80/1d/60/2c256ed38dddce2fdd93be545214a63e02fbd8d74fb0b7f3a6\n",
            "Successfully built pyspark\n",
            "Installing collected packages: pyspark\n",
            "Successfully installed pyspark-3.5.1\n"
          ]
        }
      ]
    },
    {
      "cell_type": "code",
      "source": [
        "# necessary imports\n",
        "from pyspark.sql import SparkSession\n",
        "from pyspark.sql.functions import col, when, count, isnan, isnull\n",
        "from pyspark.sql.functions import lit,mean,when, greatest"
      ],
      "metadata": {
        "id": "6CC2-iZHpjjF"
      },
      "execution_count": 4,
      "outputs": []
    },
    {
      "cell_type": "code",
      "source": [
        "# starting spark session\n",
        "spark = SparkSession.builder.appName(\"Census\").getOrCreate()"
      ],
      "metadata": {
        "id": "WUJOz-Fap4yw"
      },
      "execution_count": 5,
      "outputs": []
    },
    {
      "cell_type": "code",
      "source": [
        "# loading data\n",
        "demographics = spark.read.csv('/content/drive/MyDrive/2017_census.csv',header=True, inferSchema=True)"
      ],
      "metadata": {
        "id": "sonRzq2Mq-Fp"
      },
      "execution_count": 6,
      "outputs": []
    },
    {
      "cell_type": "code",
      "source": [
        "# getting the shape of the dataframe\n",
        "demographics_rows=demographics.count()\n",
        "demographics_columns=len(demographics.columns)\n",
        "print('Rows for demographics: ',demographics_rows)\n",
        "print('Columns for demographics: ',demographics_columns)"
      ],
      "metadata": {
        "colab": {
          "base_uri": "https://localhost:8080/"
        },
        "id": "1xyFxNpVrKFv",
        "outputId": "3f84a653-5edd-412a-9daa-6add4993b603"
      },
      "execution_count": 7,
      "outputs": [
        {
          "output_type": "stream",
          "name": "stdout",
          "text": [
            "Rows for demographics:  74001\n",
            "Columns for demographics:  37\n"
          ]
        }
      ]
    },
    {
      "cell_type": "code",
      "source": [
        "demographics.printSchema()"
      ],
      "metadata": {
        "colab": {
          "base_uri": "https://localhost:8080/"
        },
        "id": "AbHIZCVyrMFI",
        "outputId": "ad899ba7-7d62-42e0-f691-686faf225a38"
      },
      "execution_count": 8,
      "outputs": [
        {
          "output_type": "stream",
          "name": "stdout",
          "text": [
            "root\n",
            " |-- TractId: long (nullable = true)\n",
            " |-- State: string (nullable = true)\n",
            " |-- County: string (nullable = true)\n",
            " |-- TotalPop: integer (nullable = true)\n",
            " |-- Men: integer (nullable = true)\n",
            " |-- Women: integer (nullable = true)\n",
            " |-- Hispanic: double (nullable = true)\n",
            " |-- White: double (nullable = true)\n",
            " |-- Black: double (nullable = true)\n",
            " |-- Native: double (nullable = true)\n",
            " |-- Asian: double (nullable = true)\n",
            " |-- Pacific: double (nullable = true)\n",
            " |-- VotingAgeCitizen: integer (nullable = true)\n",
            " |-- Income: double (nullable = true)\n",
            " |-- IncomeErr: double (nullable = true)\n",
            " |-- IncomePerCap: double (nullable = true)\n",
            " |-- IncomePerCapErr: double (nullable = true)\n",
            " |-- Poverty: double (nullable = true)\n",
            " |-- ChildPoverty: double (nullable = true)\n",
            " |-- Professional: double (nullable = true)\n",
            " |-- Service: double (nullable = true)\n",
            " |-- Office: double (nullable = true)\n",
            " |-- Construction: double (nullable = true)\n",
            " |-- Production: double (nullable = true)\n",
            " |-- Drive: double (nullable = true)\n",
            " |-- Carpool: double (nullable = true)\n",
            " |-- Transit: double (nullable = true)\n",
            " |-- Walk: double (nullable = true)\n",
            " |-- OtherTransp: double (nullable = true)\n",
            " |-- WorkAtHome: double (nullable = true)\n",
            " |-- MeanCommute: double (nullable = true)\n",
            " |-- Employed: integer (nullable = true)\n",
            " |-- PrivateWork: double (nullable = true)\n",
            " |-- PublicWork: double (nullable = true)\n",
            " |-- SelfEmployed: double (nullable = true)\n",
            " |-- FamilyWork: double (nullable = true)\n",
            " |-- Unemployment: double (nullable = true)\n",
            "\n"
          ]
        }
      ]
    },
    {
      "cell_type": "code",
      "source": [
        "#formatting of columns for demographics data\n",
        "demographics = demographics \\\n",
        "    .withColumnRenamed(\"TotalPop\", \"TotalPopulation\") \\\n",
        "    .withColumnRenamed(\"Hispanic\", \"HispanicPercentage\") \\\n",
        "    .withColumnRenamed(\"White\", \"WhitePercentage\") \\\n",
        "    .withColumnRenamed(\"Black\", \"BlackPercentage\") \\\n",
        "    .withColumnRenamed(\"Native\", \"NativePercentage\") \\\n",
        "    .withColumnRenamed(\"Asian\", \"AsianPercentage\") \\\n",
        "    .withColumnRenamed(\"Pacific\", \"PacificPercentage\") \\\n",
        "    .withColumnRenamed(\"Income\", \"MedianHouseholdIncome\") \\\n",
        "    .withColumnRenamed(\"IncomeErr\", \"MedianHouseholdIncomeError\") \\\n",
        "    .withColumnRenamed(\"IncomePerCap\", \"IncomePerCapita\") \\\n",
        "    .withColumnRenamed(\"IncomePerCapErr\", \"IncomePerCapitaError\") \\\n",
        "    .withColumnRenamed(\"OtherTransp\", \"OtherTransportation\")  \\\n",
        "    .withColumnRenamed(\"MeanCommute\", \"MeanCommuteTime\")"
      ],
      "metadata": {
        "id": "FWL_CRIirOWq"
      },
      "execution_count": 9,
      "outputs": []
    },
    {
      "cell_type": "code",
      "source": [
        "# filtering out rows that have no recorded population\n",
        "demographics = demographics.filter(demographics.TotalPopulation > 0)\n",
        "demographics.count()"
      ],
      "metadata": {
        "colab": {
          "base_uri": "https://localhost:8080/"
        },
        "id": "Xsxn-6BSPrAN",
        "outputId": "9eacb650-fdc2-40ca-d7b3-649855ba9422"
      },
      "execution_count": 10,
      "outputs": [
        {
          "output_type": "execute_result",
          "data": {
            "text/plain": [
              "73305"
            ]
          },
          "metadata": {},
          "execution_count": 10
        }
      ]
    },
    {
      "cell_type": "code",
      "source": [
        "# percentage of missing values in each column\n",
        "missing_percentage = demographics.select([(count(when(isnan(c) | col(c).isNull(), c))/count(lit(1))).alias(c) for c in demographics.columns])\n",
        "missing_percentage.show()"
      ],
      "metadata": {
        "colab": {
          "base_uri": "https://localhost:8080/"
        },
        "id": "z_e8ey03tciZ",
        "outputId": "4abde5a6-3345-4475-ee6e-300a1d8678aa"
      },
      "execution_count": 11,
      "outputs": [
        {
          "output_type": "stream",
          "name": "stdout",
          "text": [
            "+-------+-----+------+---------------+---+-----+------------------+---------------+---------------+----------------+---------------+-----------------+----------------+---------------------+--------------------------+--------------------+--------------------+--------------------+--------------------+--------------------+--------------------+--------------------+--------------------+--------------------+--------------------+--------------------+--------------------+--------------------+--------------------+--------------------+--------------------+--------+--------------------+--------------------+--------------------+--------------------+--------------------+\n",
            "|TractId|State|County|TotalPopulation|Men|Women|HispanicPercentage|WhitePercentage|BlackPercentage|NativePercentage|AsianPercentage|PacificPercentage|VotingAgeCitizen|MedianHouseholdIncome|MedianHouseholdIncomeError|     IncomePerCapita|IncomePerCapitaError|             Poverty|        ChildPoverty|        Professional|             Service|              Office|        Construction|          Production|               Drive|             Carpool|             Transit|                Walk| OtherTransportation|          WorkAtHome|     MeanCommuteTime|Employed|         PrivateWork|          PublicWork|        SelfEmployed|          FamilyWork|        Unemployment|\n",
            "+-------+-----+------+---------------+---+-----+------------------+---------------+---------------+----------------+---------------+-----------------+----------------+---------------------+--------------------------+--------------------+--------------------+--------------------+--------------------+--------------------+--------------------+--------------------+--------------------+--------------------+--------------------+--------------------+--------------------+--------------------+--------------------+--------------------+--------------------+--------+--------------------+--------------------+--------------------+--------------------+--------------------+\n",
            "|    0.0|  0.0|   0.0|            0.0|0.0|  0.0|               0.0|            0.0|            0.0|             0.0|            0.0|              0.0|             0.0| 0.005729486392469818|      0.005729486392469818|6.684400791214788E-4|6.684400791214788E-4|0.001991678603096651|0.005647636586863106|0.001568787940795...|0.001568787940795...|0.001568787940795...|0.001568787940795...|0.001568787940795...|0.001432371598117...|0.001432371598117...|0.001432371598117...|0.001432371598117...|0.001432371598117...|0.001432371598117...|0.003410408566946...|     0.0|0.001568787940795...|0.001568787940795...|0.001568787940795...|0.001568787940795...|0.001555146306527522|\n",
            "+-------+-----+------+---------------+---+-----+------------------+---------------+---------------+----------------+---------------+-----------------+----------------+---------------------+--------------------------+--------------------+--------------------+--------------------+--------------------+--------------------+--------------------+--------------------+--------------------+--------------------+--------------------+--------------------+--------------------+--------------------+--------------------+--------------------+--------------------+--------+--------------------+--------------------+--------------------+--------------------+--------------------+\n",
            "\n"
          ]
        }
      ]
    },
    {
      "cell_type": "code",
      "source": [
        "# get mean values for each numeric column\n",
        "numeric_columns = [col_name for col_name, col_type in demographics.dtypes if col_type != 'string']\n",
        "means = demographics.select(*(mean(col(c)).alias(c) for c in numeric_columns))\n",
        "\n",
        "# extract mean values from DataFrame\n",
        "mean_values = means.first().asDict()\n",
        "\n",
        "# fill null values with mean for numeric columns\n",
        "for col_name in numeric_columns:\n",
        "    demographics = demographics.na.fill(mean_values[col_name], [col_name])\n",
        "\n",
        "# show df after imputation\n",
        "demographics.show()"
      ],
      "metadata": {
        "colab": {
          "base_uri": "https://localhost:8080/"
        },
        "id": "vJfOpOQ-SIwl",
        "outputId": "0a683d0a-6cea-4dea-b421-d287fbf1e1ab"
      },
      "execution_count": 12,
      "outputs": [
        {
          "output_type": "stream",
          "name": "stdout",
          "text": [
            "+----------+-------+--------------+---------------+----+-----+------------------+---------------+---------------+----------------+---------------+-----------------+----------------+---------------------+--------------------------+---------------+--------------------+-------+------------+------------+-------+------+------------+----------+-----+-------+-------+----+-------------------+----------+---------------+--------+-----------+----------+------------+----------+------------+\n",
            "|   TractId|  State|        County|TotalPopulation| Men|Women|HispanicPercentage|WhitePercentage|BlackPercentage|NativePercentage|AsianPercentage|PacificPercentage|VotingAgeCitizen|MedianHouseholdIncome|MedianHouseholdIncomeError|IncomePerCapita|IncomePerCapitaError|Poverty|ChildPoverty|Professional|Service|Office|Construction|Production|Drive|Carpool|Transit|Walk|OtherTransportation|WorkAtHome|MeanCommuteTime|Employed|PrivateWork|PublicWork|SelfEmployed|FamilyWork|Unemployment|\n",
            "+----------+-------+--------------+---------------+----+-----+------------------+---------------+---------------+----------------+---------------+-----------------+----------------+---------------------+--------------------------+---------------+--------------------+-------+------------+------------+-------+------+------------+----------+-----+-------+-------+----+-------------------+----------+---------------+--------+-----------+----------+------------+----------+------------+\n",
            "|1001020100|Alabama|Autauga County|           1845| 899|  946|               2.4|           86.3|            5.2|             0.0|            1.2|              0.0|            1407|              67826.0|                   14560.0|        33018.0|              6294.0|   10.7|        20.8|        38.5|   15.6|  22.8|        10.8|      12.4| 94.2|    3.3|    0.0| 0.5|                0.0|       2.1|           24.5|     881|       74.2|      21.2|         4.5|       0.0|         4.6|\n",
            "|1001020200|Alabama|Autauga County|           2172|1167| 1005|               1.1|           41.6|           54.5|             0.0|            1.0|              0.0|            1652|              41287.0|                    3819.0|        18996.0|              2453.0|   22.4|        35.8|        30.5|   24.9|  22.9|         6.3|      15.4| 90.5|    9.1|    0.0| 0.0|                0.5|       0.0|           22.2|     852|       75.9|      15.0|         9.0|       0.0|         3.4|\n",
            "|1001020300|Alabama|Autauga County|           3385|1533| 1852|               8.0|           61.4|           26.5|             0.6|            0.7|              0.4|            2480|              46806.0|                    9496.0|        21236.0|              2562.0|   14.7|        21.1|        27.9|   19.4|  33.3|         9.9|       9.6| 88.3|    8.4|    0.0| 1.0|                0.8|       1.5|           23.1|    1482|       73.3|      21.1|         4.8|       0.7|         4.7|\n",
            "|1001020400|Alabama|Autauga County|           4267|2001| 2266|               9.6|           80.3|            7.1|             0.5|            0.2|              0.0|            3257|              55895.0|                    4369.0|        28068.0|              3190.0|    2.3|         1.7|        29.0|   16.6|  25.8|         9.1|      19.5| 82.3|   11.2|    0.0| 1.5|                2.9|       2.1|           25.9|    1849|       75.8|      19.7|         4.5|       0.0|         6.1|\n",
            "|1001020500|Alabama|Autauga County|           9965|5054| 4911|               0.9|           77.5|           16.4|             0.0|            3.1|              0.0|            7229|              68143.0|                   14424.0|        36905.0|             10706.0|   12.2|        17.9|        48.8|   13.8|  20.5|         3.5|      13.4| 86.9|   11.2|    0.0| 0.8|                0.3|       0.7|           21.0|    4787|       71.4|      24.1|         4.5|       0.0|         2.3|\n",
            "|1001020600|Alabama|Autauga County|           3620|1765| 1855|               3.0|           70.7|           25.1|             0.0|            0.0|              0.0|            2687|              44549.0|                   16126.0|        27038.0|              4427.0|   13.6|        20.2|        25.2|   24.6|  29.0|         8.1|      13.1| 83.0|    4.8|    0.0| 0.7|                3.5|       8.0|           21.1|    1364|       84.0|      14.1|         1.9|       0.0|         6.1|\n",
            "|1001020700|Alabama|Autauga County|           3420|1459| 1961|               4.0|           78.0|           13.7|             0.6|            0.0|              0.0|            2538|              41250.0|                   16811.0|        19028.0|              2587.0|   27.0|        27.7|        25.4|   35.0|  21.6|         5.6|      12.4| 89.0|   11.0|    0.0| 0.0|                0.0|       0.0|           16.4|    1418|       77.4|      17.6|         5.0|       0.0|        16.9|\n",
            "|1001020801|Alabama|Autauga County|           2913|1495| 1418|               4.2|           86.3|            7.1|             1.5|            0.0|              0.0|            2163|              80089.0|                   13397.0|        36631.0|              5174.0|   12.0|        25.1|        46.0|    9.1|  30.6|         8.3|       6.0| 89.5|    4.6|    0.0| 0.0|                0.7|       5.2|           24.6|    1369|       72.7|      17.5|         8.8|       1.0|         7.2|\n",
            "|1001020802|Alabama|Autauga County|          11333|5488| 5845|               1.4|           81.8|           15.3|             0.0|            1.0|              0.0|            8248|              64439.0|                    8677.0|        26621.0|              2187.0|   14.7|        21.8|        36.8|   20.2|  19.6|         9.3|      14.0| 89.1|    8.7|    0.0| 0.0|                0.0|       2.2|           27.4|    4857|       70.1|      22.5|         7.4|       0.0|         2.2|\n",
            "|1001020900|Alabama|Autauga County|           6167|3111| 3056|               1.0|           86.2|            9.7|             0.8|            0.3|              0.0|            4710|              49469.0|                   15517.0|        26726.0|              3839.0|    9.4|        13.2|        32.3|   12.7|  20.1|         6.4|      28.6| 77.2|   11.9|    0.0| 0.0|                5.0|       5.9|           35.6|    2781|       80.4|      14.5|         5.0|       0.0|         6.8|\n",
            "|1001021000|Alabama|Autauga County|           2796|1440| 1356|               0.8|           71.5|           25.7|             0.8|            0.0|              0.0|            2132|              46607.0|                    2948.0|        21482.0|              2721.0|   17.1|        32.8|        30.1|   13.8|  19.9|        21.9|      14.3| 83.9|    9.9|    1.2| 3.5|                0.4|       1.1|           35.6|    1202|       75.4|      19.0|         5.7|       0.0|         6.0|\n",
            "|1001021100|Alabama|Autauga County|           3153|1487| 1666|               0.7|           46.3|           53.0|             0.0|            0.0|              0.0|            2513|              36450.0|                   12224.0|        23309.0|              4648.0|   18.6|        22.2|        19.4|   21.9|  29.6|        10.0|      19.1| 80.5|   13.7|    0.0| 0.4|                3.2|       2.1|           31.8|    1270|       69.4|      24.7|         5.8|       0.0|         5.4|\n",
            "|1003010100|Alabama|Baldwin County|           3988|2170| 1818|               0.3|           75.4|           18.3|             5.1|            0.0|              0.0|            3258|              41387.0|                    9150.0|        21056.0|              3467.0|   10.5|         8.3|        28.4|   21.8|  21.0|        13.1|      15.6| 92.4|    4.3|    0.4| 0.0|                2.1|       0.7|           39.3|    1598|       73.8|      20.4|         5.8|       0.0|         5.8|\n",
            "|1003010200|Alabama|Baldwin County|           3259|1522| 1737|               0.3|           86.7|           10.5|             0.7|            0.0|              0.0|            2304|              33769.0|                    7589.0|        20639.0|              3994.0|   26.5|        48.2|        17.8|   22.2|  25.3|        11.3|      23.4| 93.8|    2.5|    0.2| 0.8|                2.8|       0.0|           29.0|    1340|       84.4|       9.6|         6.0|       0.0|         7.8|\n",
            "|1003010300|Alabama|Baldwin County|           9056|4378| 4678|               2.6|           79.2|           15.9|             0.9|            0.0|              0.0|            6505|              49583.0|                   12703.0|        23961.0|              3308.0|    6.0|         3.9|        33.6|   16.4|  22.6|         8.8|      18.6| 79.1|   15.3|    0.0| 0.8|                1.2|       3.7|           31.1|    3340|       83.5|      14.5|         2.0|       0.0|         3.9|\n",
            "|1003010400|Alabama|Baldwin County|           4810|2436| 2374|               5.0|           84.4|            8.4|             1.1|            0.3|              0.0|            3418|              47178.0|                    5626.0|        25277.0|              3864.0|   10.4|         8.9|        32.1|   14.3|  21.2|        17.6|      14.7| 84.3|    9.9|    0.0| 1.6|                3.1|       1.2|           29.5|    2002|       83.3|       9.4|         7.3|       0.0|         7.4|\n",
            "|1003010500|Alabama|Baldwin County|           5038|2750| 2288|               1.6|           81.6|           14.6|             0.3|            0.7|              0.0|            3853|              41071.0|                   10328.0|        22266.0|              2059.0|   18.6|        33.4|        33.3|   17.9|  25.2|        10.2|      13.3| 91.6|    3.7|    0.0| 0.2|                0.0|       4.5|           23.6|    1767|       67.3|      25.2|         7.4|       0.0|         4.4|\n",
            "|1003010600|Alabama|Baldwin County|           3418|1682| 1736|               3.9|           26.7|           69.4|             0.0|            0.0|              0.0|            2393|              27722.0|                    7776.0|        16957.0|              4622.0|   29.8|        41.2|        16.3|   24.7|  22.5|        11.6|      24.9| 87.4|    6.0|    0.0| 1.5|                1.5|       3.6|           19.2|    1269|       84.1|      13.0|         2.9|       0.0|         5.9|\n",
            "|1003010701|Alabama|Baldwin County|           8068|3966| 4102|               4.3|           92.1|            1.4|             0.3|            0.7|              0.0|            5942|              80800.0|                    9357.0|        40060.0|              3297.0|    3.5|         0.8|        56.0|    8.3|  21.3|         6.8|       7.5| 91.8|    2.8|    0.0| 0.9|                0.4|       4.1|           26.4|    3727|       76.4|      19.5|         3.7|       0.4|         2.3|\n",
            "|1003010703|Alabama|Baldwin County|          17748|8863| 8885|               2.6|           83.8|            6.0|             0.0|            1.9|              0.0|           12479|              87373.0|                    8542.0|        36329.0|              2805.0|    3.5|         2.0|        49.7|    9.9|  24.5|         6.8|       9.1| 87.6|    5.3|    0.3| 0.3|                1.6|       5.0|           30.7|    8999|       81.2|      14.2|         4.6|       0.0|         2.9|\n",
            "+----------+-------+--------------+---------------+----+-----+------------------+---------------+---------------+----------------+---------------+-----------------+----------------+---------------------+--------------------------+---------------+--------------------+-------+------------+------------+-------+------+------------+----------+-----+-------+-------+----+-------------------+----------+---------------+--------+-----------+----------+------------+----------+------------+\n",
            "only showing top 20 rows\n",
            "\n"
          ]
        }
      ]
    },
    {
      "cell_type": "code",
      "source": [
        "# find duplicate rows across all cols\n",
        "demographics.exceptAll(demographics.dropDuplicates()).show()"
      ],
      "metadata": {
        "colab": {
          "base_uri": "https://localhost:8080/"
        },
        "id": "Qs-hIN48jaYr",
        "outputId": "6600c93a-52bf-4059-ecac-63250ef67718"
      },
      "execution_count": 13,
      "outputs": [
        {
          "output_type": "stream",
          "name": "stdout",
          "text": [
            "+-------+-----+------+---------------+---+-----+------------------+---------------+---------------+----------------+---------------+-----------------+----------------+---------------------+--------------------------+---------------+--------------------+-------+------------+------------+-------+------+------------+----------+-----+-------+-------+----+-------------------+----------+---------------+--------+-----------+----------+------------+----------+------------+\n",
            "|TractId|State|County|TotalPopulation|Men|Women|HispanicPercentage|WhitePercentage|BlackPercentage|NativePercentage|AsianPercentage|PacificPercentage|VotingAgeCitizen|MedianHouseholdIncome|MedianHouseholdIncomeError|IncomePerCapita|IncomePerCapitaError|Poverty|ChildPoverty|Professional|Service|Office|Construction|Production|Drive|Carpool|Transit|Walk|OtherTransportation|WorkAtHome|MeanCommuteTime|Employed|PrivateWork|PublicWork|SelfEmployed|FamilyWork|Unemployment|\n",
            "+-------+-----+------+---------------+---+-----+------------------+---------------+---------------+----------------+---------------+-----------------+----------------+---------------------+--------------------------+---------------+--------------------+-------+------------+------------+-------+------+------------+----------+-----+-------+-------+----+-------------------+----------+---------------+--------+-----------+----------+------------+----------+------------+\n",
            "+-------+-----+------+---------------+---+-----+------------------+---------------+---------------+----------------+---------------+-----------------+----------------+---------------------+--------------------------+---------------+--------------------+-------+------------+------------+-------+------+------------+----------+-----+-------+-------+----+-------------------+----------+---------------+--------+-----------+----------+------------+----------+------------+\n",
            "\n"
          ]
        }
      ]
    },
    {
      "cell_type": "code",
      "source": [
        "# display unique values in string dtype cols\n",
        "demographics.select(\"State\",\"County\").distinct().show(50)"
      ],
      "metadata": {
        "colab": {
          "base_uri": "https://localhost:8080/"
        },
        "id": "oTlGnovktPjy",
        "outputId": "677db768-8324-416e-d25e-7cfde40b5dba"
      },
      "execution_count": 14,
      "outputs": [
        {
          "output_type": "stream",
          "name": "stdout",
          "text": [
            "+-------------+--------------------+\n",
            "|        State|              County|\n",
            "+-------------+--------------------+\n",
            "|        Idaho|      Benewah County|\n",
            "|         Iowa|      Carroll County|\n",
            "|         Iowa|  Cerro Gordo County|\n",
            "|     Kentucky|       Barren County|\n",
            "|     Kentucky|         Bell County|\n",
            "|     Kentucky|      Bracken County|\n",
            "|  Mississippi|       Jasper County|\n",
            "|     Missouri|         Knox County|\n",
            "|     Missouri|      Laclede County|\n",
            "|      Montana|       McCone County|\n",
            "|     New York|       Queens County|\n",
            "|      Alabama|      Chilton County|\n",
            "|       Alaska|Juneau City and B...|\n",
            "|       Alaska|    Nome Census Area|\n",
            "|      Florida|       Martin County|\n",
            "|        Idaho|   Clearwater County|\n",
            "|      Indiana|       Greene County|\n",
            "|         Iowa|       Dallas County|\n",
            "|         Iowa|          Lee County|\n",
            "|    Minnesota|       Becker County|\n",
            "|    Minnesota|      Goodhue County|\n",
            "|  Mississippi|      Bolivar County|\n",
            "|   California|       Madera County|\n",
            "|      Florida|      Osceola County|\n",
            "|         Iowa|         Iowa County|\n",
            "|       Kansas|      Stevens County|\n",
            "|     Kentucky|       Taylor County|\n",
            "|     Maryland|     Allegany County|\n",
            "|  Mississippi|        Smith County|\n",
            "|     Nebraska| Scotts Bluff County|\n",
            "|New Hampshire|     Sullivan County|\n",
            "|      Florida|      Madison County|\n",
            "|        Maine|       Oxford County|\n",
            "|    Minnesota|         Lyon County|\n",
            "|    Minnesota|       Wilkin County|\n",
            "|      Montana|       Blaine County|\n",
            "|       Nevada|         Lyon County|\n",
            "|   California|         Kern County|\n",
            "|     Colorado|        Grand County|\n",
            "|      Georgia|    Effingham County|\n",
            "|      Georgia|        Irwin County|\n",
            "|      Indiana|       Starke County|\n",
            "|  Mississippi|      Coahoma County|\n",
            "|     Missouri|       Jasper County|\n",
            "|      Montana|     Gallatin County|\n",
            "|      Montana|      Pondera County|\n",
            "|   New Jersey|      Passaic County|\n",
            "|   New Mexico|     Sandoval County|\n",
            "|   California|   Santa Cruz County|\n",
            "|        Idaho|        Butte County|\n",
            "+-------------+--------------------+\n",
            "only showing top 50 rows\n",
            "\n"
          ]
        }
      ]
    },
    {
      "cell_type": "code",
      "source": [
        "# deriving a new column for ratio of dependent population (excluding elderly for lack of information)\n",
        "# population under 18 / population above 18\n",
        "demographics = demographics.withColumn('AgeDependencyRatio', (col('TotalPopulation')-col('VotingAgeCitizen')) / col('VotingAgeCitizen'))\n",
        "demographics.select(\"TractId\",\"State\",\"County\",\"AgeDependencyRatio\").show()"
      ],
      "metadata": {
        "colab": {
          "base_uri": "https://localhost:8080/"
        },
        "id": "XHGabzMa3k8e",
        "outputId": "2b76c5bb-3a0d-4ec4-865d-afdf6a596fae"
      },
      "execution_count": 15,
      "outputs": [
        {
          "output_type": "stream",
          "name": "stdout",
          "text": [
            "+----------+-------+--------------+-------------------+\n",
            "|   TractId|  State|        County| AgeDependencyRatio|\n",
            "+----------+-------+--------------+-------------------+\n",
            "|1001020100|Alabama|Autauga County|0.31130063965884863|\n",
            "|1001020200|Alabama|Autauga County|0.31476997578692495|\n",
            "|1001020300|Alabama|Autauga County| 0.3649193548387097|\n",
            "|1001020400|Alabama|Autauga County| 0.3101013202333436|\n",
            "|1001020500|Alabama|Autauga County|0.37847558445151475|\n",
            "|1001020600|Alabama|Autauga County|0.34722739114253814|\n",
            "|1001020700|Alabama|Autauga County| 0.3475177304964539|\n",
            "|1001020801|Alabama|Autauga County|0.34674063800277394|\n",
            "|1001020802|Alabama|Autauga County|0.37403006789524734|\n",
            "|1001020900|Alabama|Autauga County|0.30934182590233544|\n",
            "|1001021000|Alabama|Autauga County|0.31144465290806755|\n",
            "|1001021100|Alabama|Autauga County| 0.2546756864305611|\n",
            "|1003010100|Alabama|Baldwin County|0.22406384284837325|\n",
            "|1003010200|Alabama|Baldwin County| 0.4144965277777778|\n",
            "|1003010300|Alabama|Baldwin County| 0.3921598770176787|\n",
            "|1003010400|Alabama|Baldwin County| 0.4072557050906963|\n",
            "|1003010500|Alabama|Baldwin County|0.30755255644951984|\n",
            "|1003010600|Alabama|Baldwin County|0.42833263685750106|\n",
            "|1003010701|Alabama|Baldwin County|0.35779198922921573|\n",
            "|1003010703|Alabama|Baldwin County| 0.4222293453001042|\n",
            "+----------+-------+--------------+-------------------+\n",
            "only showing top 20 rows\n",
            "\n"
          ]
        }
      ]
    },
    {
      "cell_type": "code",
      "source": [
        "# deriving a column for income bracket for each census tract\n",
        "demographics = demographics.withColumn('HouseholdIncomeBracket',\n",
        "                                       when(col('MedianHouseholdIncome') < 30000, 'Low')\n",
        "                                       .when((col('MedianHouseholdIncome') >= 30000) & (col('MedianHouseholdIncome') < 70000), 'Middle')\n",
        "                                       .otherwise('High'))\n",
        "\n",
        "demographics.select(\"TractId\",\"State\",\"County\",\"HouseholdIncomeBracket\").show(30)"
      ],
      "metadata": {
        "id": "9VaqVJQINE6g",
        "colab": {
          "base_uri": "https://localhost:8080/"
        },
        "outputId": "92c207f5-b0d7-4b81-8817-dcf203de0f4d"
      },
      "execution_count": 16,
      "outputs": [
        {
          "output_type": "stream",
          "name": "stdout",
          "text": [
            "+----------+-------+--------------+----------------------+\n",
            "|   TractId|  State|        County|HouseholdIncomeBracket|\n",
            "+----------+-------+--------------+----------------------+\n",
            "|1001020100|Alabama|Autauga County|                Middle|\n",
            "|1001020200|Alabama|Autauga County|                Middle|\n",
            "|1001020300|Alabama|Autauga County|                Middle|\n",
            "|1001020400|Alabama|Autauga County|                Middle|\n",
            "|1001020500|Alabama|Autauga County|                Middle|\n",
            "|1001020600|Alabama|Autauga County|                Middle|\n",
            "|1001020700|Alabama|Autauga County|                Middle|\n",
            "|1001020801|Alabama|Autauga County|                  High|\n",
            "|1001020802|Alabama|Autauga County|                Middle|\n",
            "|1001020900|Alabama|Autauga County|                Middle|\n",
            "|1001021000|Alabama|Autauga County|                Middle|\n",
            "|1001021100|Alabama|Autauga County|                Middle|\n",
            "|1003010100|Alabama|Baldwin County|                Middle|\n",
            "|1003010200|Alabama|Baldwin County|                Middle|\n",
            "|1003010300|Alabama|Baldwin County|                Middle|\n",
            "|1003010400|Alabama|Baldwin County|                Middle|\n",
            "|1003010500|Alabama|Baldwin County|                Middle|\n",
            "|1003010600|Alabama|Baldwin County|                   Low|\n",
            "|1003010701|Alabama|Baldwin County|                  High|\n",
            "|1003010703|Alabama|Baldwin County|                  High|\n",
            "|1003010704|Alabama|Baldwin County|                  High|\n",
            "|1003010705|Alabama|Baldwin County|                Middle|\n",
            "|1003010800|Alabama|Baldwin County|                Middle|\n",
            "|1003010903|Alabama|Baldwin County|                Middle|\n",
            "|1003010904|Alabama|Baldwin County|                Middle|\n",
            "|1003010905|Alabama|Baldwin County|                Middle|\n",
            "|1003010906|Alabama|Baldwin County|                Middle|\n",
            "|1003011000|Alabama|Baldwin County|                Middle|\n",
            "|1003011101|Alabama|Baldwin County|                Middle|\n",
            "|1003011102|Alabama|Baldwin County|                Middle|\n",
            "+----------+-------+--------------+----------------------+\n",
            "only showing top 30 rows\n",
            "\n"
          ]
        }
      ]
    },
    {
      "cell_type": "code",
      "source": [
        "\"\"\"deriving a column for ethnic diversity based on Simpson's Diversity Index\n",
        "formula -> (1 - (sum of squared error of each ethnic group))\n",
        "the values lie between 0 and 1 with values closer to 0 indicating low diversity\n",
        "and values closer to 1 indicating high diversity and ethnic distribution\"\"\"\n",
        "\n",
        "demographics = demographics.withColumn('SimpsonsDiversityIndex', 1 -\n",
        "                                       (((col('HispanicPercentage')/100)**2) +\n",
        "                                        ((col('WhitePercentage')/100)** 2) +\n",
        "                                        ((col('BlackPercentage')/100)** 2) +\n",
        "                                        ((col('NativePercentage')/100)** 2) +\n",
        "                                        ((col('AsianPercentage')/100)** 2) +\n",
        "                                        ((col('PacificPercentage')/100)** 2)))\n",
        "\n",
        "demographics.select('TractId', 'State', 'County', 'SimpsonsDiversityIndex').show()\n"
      ],
      "metadata": {
        "colab": {
          "base_uri": "https://localhost:8080/"
        },
        "id": "nLsyc6A3C-pt",
        "outputId": "54c0028e-9345-4510-b222-d30e3aabcb34"
      },
      "execution_count": 17,
      "outputs": [
        {
          "output_type": "stream",
          "name": "stdout",
          "text": [
            "+----------+-------+--------------+----------------------+\n",
            "|   TractId|  State|        County|SimpsonsDiversityIndex|\n",
            "+----------+-------+--------------+----------------------+\n",
            "|1001020100|Alabama|Autauga County|    0.2518069999999999|\n",
            "|1001020200|Alabama|Autauga County|    0.5296979999999999|\n",
            "|1001020300|Alabama|Autauga County|    0.5462779999999999|\n",
            "|1001020400|Alabama|Autauga County|    0.3409050000000001|\n",
            "|1001020500|Alabama|Autauga County|    0.3714369999999999|\n",
            "|1001020600|Alabama|Autauga County|    0.4362499999999999|\n",
            "|1001020700|Alabama|Autauga County|   0.37119499999999983|\n",
            "|1001020801|Alabama|Autauga County|              0.248201|\n",
            "|1001020802|Alabama|Autauga County|    0.3071710000000001|\n",
            "|1001020900|Alabama|Autauga County|    0.2473740000000001|\n",
            "|1001021000|Alabama|Autauga County|   0.42259800000000014|\n",
            "|1001021100|Alabama|Autauga County|              0.504682|\n",
            "|1003010100|Alabama|Baldwin County|              0.395385|\n",
            "|1003010200|Alabama|Baldwin County|    0.2372280000000001|\n",
            "|1003010300|Alabama|Baldwin County|   0.34669799999999995|\n",
            "|1003010400|Alabama|Baldwin County|   0.27797799999999984|\n",
            "|1003010500|Alabama|Baldwin County|   0.31251400000000007|\n",
            "|1003010600|Alabama|Baldwin County|    0.4455539999999999|\n",
            "|1003010701|Alabama|Baldwin County|   0.14965600000000012|\n",
            "|1003010703|Alabama|Baldwin County|              0.293119|\n",
            "+----------+-------+--------------+----------------------+\n",
            "only showing top 20 rows\n",
            "\n"
          ]
        }
      ]
    },
    {
      "cell_type": "code",
      "source": [
        "\"\"\"deriving column for gender ratio of men to women\n",
        "values less than 1 indicate more men than women\n",
        "values more than 1 indicate more women than men\n",
        "value exactly at 1 indicates equal population of men and women\"\"\"\n",
        "\n",
        "demographics = demographics.withColumn('GenderRatio', col('Men') / col('Women'))\n",
        "\n",
        "demographics.select('TractId', 'State', 'County', 'GenderRatio').show()"
      ],
      "metadata": {
        "colab": {
          "base_uri": "https://localhost:8080/"
        },
        "id": "Tke4wa3FRnEc",
        "outputId": "6bee8e9f-4a8d-4f5e-9618-9c0204f4a246"
      },
      "execution_count": 18,
      "outputs": [
        {
          "output_type": "stream",
          "name": "stdout",
          "text": [
            "+----------+-------+--------------+------------------+\n",
            "|   TractId|  State|        County|       GenderRatio|\n",
            "+----------+-------+--------------+------------------+\n",
            "|1001020100|Alabama|Autauga County|0.9503171247357294|\n",
            "|1001020200|Alabama|Autauga County|1.1611940298507464|\n",
            "|1001020300|Alabama|Autauga County|0.8277537796976242|\n",
            "|1001020400|Alabama|Autauga County| 0.883053839364519|\n",
            "|1001020500|Alabama|Autauga County|1.0291183058440236|\n",
            "|1001020600|Alabama|Autauga County|0.9514824797843666|\n",
            "|1001020700|Alabama|Autauga County|0.7440081591024987|\n",
            "|1001020801|Alabama|Autauga County|1.0543018335684062|\n",
            "|1001020802|Alabama|Autauga County|0.9389221556886228|\n",
            "|1001020900|Alabama|Autauga County| 1.017997382198953|\n",
            "|1001021000|Alabama|Autauga County|1.0619469026548674|\n",
            "|1001021100|Alabama|Autauga County|0.8925570228091236|\n",
            "|1003010100|Alabama|Baldwin County|1.1936193619361937|\n",
            "|1003010200|Alabama|Baldwin County|0.8762233736327001|\n",
            "|1003010300|Alabama|Baldwin County|0.9358700299273194|\n",
            "|1003010400|Alabama|Baldwin County|1.0261162594776747|\n",
            "|1003010500|Alabama|Baldwin County|1.2019230769230769|\n",
            "|1003010600|Alabama|Baldwin County|0.9688940092165899|\n",
            "|1003010701|Alabama|Baldwin County|0.9668454412481716|\n",
            "|1003010703|Alabama|Baldwin County|0.9975239167135622|\n",
            "+----------+-------+--------------+------------------+\n",
            "only showing top 20 rows\n",
            "\n"
          ]
        }
      ]
    },
    {
      "cell_type": "code",
      "source": [
        "# deriving column for most common mode of commute\n",
        "commute_methods = ['Drive', 'Carpool', 'Transit', 'Walk', 'OtherTransportation', 'WorkAtHome']\n",
        "demographics = demographics.withColumn('DominantCommuteMethod',\n",
        "                                       when(col('Drive') == greatest(*[col(method) for method in commute_methods]), 'Drive')\n",
        "                                       .when(col('Carpool') == greatest(*[col(method) for method in commute_methods]), 'Carpool')\n",
        "                                       .when(col('Transit') == greatest(*[col(method) for method in commute_methods]), 'Transit')\n",
        "                                       .when(col('Walk') == greatest(*[col(method) for method in commute_methods]), 'Walk')\n",
        "                                       .when(col('OtherTransportation') == greatest(*[col(method) for method in commute_methods]), 'OtherTransportation')\n",
        "                                       .when(col('WorkAtHome') == greatest(*[col(method) for method in commute_methods]), 'WorkAtHome'))\n",
        "\n",
        "demographics.select('TractId', 'State', 'County', 'DominantCommuteMethod').show(60)"
      ],
      "metadata": {
        "colab": {
          "base_uri": "https://localhost:8080/"
        },
        "id": "1lnsj179UihI",
        "outputId": "550e5189-866a-47e7-b8d3-17644e716016"
      },
      "execution_count": 20,
      "outputs": [
        {
          "output_type": "stream",
          "name": "stdout",
          "text": [
            "+----------+-------+--------------+---------------------+\n",
            "|   TractId|  State|        County|DominantCommuteMethod|\n",
            "+----------+-------+--------------+---------------------+\n",
            "|1001020100|Alabama|Autauga County|                Drive|\n",
            "|1001020200|Alabama|Autauga County|                Drive|\n",
            "|1001020300|Alabama|Autauga County|                Drive|\n",
            "|1001020400|Alabama|Autauga County|                Drive|\n",
            "|1001020500|Alabama|Autauga County|                Drive|\n",
            "|1001020600|Alabama|Autauga County|                Drive|\n",
            "|1001020700|Alabama|Autauga County|                Drive|\n",
            "|1001020801|Alabama|Autauga County|                Drive|\n",
            "|1001020802|Alabama|Autauga County|                Drive|\n",
            "|1001020900|Alabama|Autauga County|                Drive|\n",
            "|1001021000|Alabama|Autauga County|                Drive|\n",
            "|1001021100|Alabama|Autauga County|                Drive|\n",
            "|1003010100|Alabama|Baldwin County|                Drive|\n",
            "|1003010200|Alabama|Baldwin County|                Drive|\n",
            "|1003010300|Alabama|Baldwin County|                Drive|\n",
            "|1003010400|Alabama|Baldwin County|                Drive|\n",
            "|1003010500|Alabama|Baldwin County|                Drive|\n",
            "|1003010600|Alabama|Baldwin County|                Drive|\n",
            "|1003010701|Alabama|Baldwin County|                Drive|\n",
            "|1003010703|Alabama|Baldwin County|                Drive|\n",
            "|1003010704|Alabama|Baldwin County|                Drive|\n",
            "|1003010705|Alabama|Baldwin County|                Drive|\n",
            "|1003010800|Alabama|Baldwin County|                Drive|\n",
            "|1003010903|Alabama|Baldwin County|                Drive|\n",
            "|1003010904|Alabama|Baldwin County|                Drive|\n",
            "|1003010905|Alabama|Baldwin County|                Drive|\n",
            "|1003010906|Alabama|Baldwin County|                Drive|\n",
            "|1003011000|Alabama|Baldwin County|                Drive|\n",
            "|1003011101|Alabama|Baldwin County|                Drive|\n",
            "|1003011102|Alabama|Baldwin County|                Drive|\n",
            "|1003011201|Alabama|Baldwin County|                Drive|\n",
            "|1003011202|Alabama|Baldwin County|                Drive|\n",
            "|1003011300|Alabama|Baldwin County|                Drive|\n",
            "|1003011401|Alabama|Baldwin County|                Drive|\n",
            "|1003011403|Alabama|Baldwin County|                Drive|\n",
            "|1003011405|Alabama|Baldwin County|                Drive|\n",
            "|1003011406|Alabama|Baldwin County|                Drive|\n",
            "|1003011407|Alabama|Baldwin County|                Drive|\n",
            "|1003011408|Alabama|Baldwin County|                Drive|\n",
            "|1003011501|Alabama|Baldwin County|                Drive|\n",
            "|1003011502|Alabama|Baldwin County|                Drive|\n",
            "|1003011601|Alabama|Baldwin County|                Drive|\n",
            "|1003011602|Alabama|Baldwin County|                Drive|\n",
            "|1005950100|Alabama|Barbour County|                Drive|\n",
            "|1005950200|Alabama|Barbour County|                Drive|\n",
            "|1005950300|Alabama|Barbour County|                Drive|\n",
            "|1005950400|Alabama|Barbour County|                Drive|\n",
            "|1005950500|Alabama|Barbour County|                Drive|\n",
            "|1005950600|Alabama|Barbour County|                Drive|\n",
            "|1005950700|Alabama|Barbour County|                Drive|\n",
            "|1005950800|Alabama|Barbour County|                Drive|\n",
            "|1005950900|Alabama|Barbour County|                Drive|\n",
            "|1007010001|Alabama|   Bibb County|                Drive|\n",
            "|1007010002|Alabama|   Bibb County|                Drive|\n",
            "|1007010003|Alabama|   Bibb County|                Drive|\n",
            "|1007010004|Alabama|   Bibb County|                Drive|\n",
            "|1009050101|Alabama| Blount County|                Drive|\n",
            "|1009050102|Alabama| Blount County|                Drive|\n",
            "|1009050200|Alabama| Blount County|                Drive|\n",
            "|1009050300|Alabama| Blount County|                Drive|\n",
            "+----------+-------+--------------+---------------------+\n",
            "only showing top 60 rows\n",
            "\n"
          ]
        }
      ]
    },
    {
      "cell_type": "code",
      "source": [],
      "metadata": {
        "id": "6AzneXhkc0Er"
      },
      "execution_count": 19,
      "outputs": []
    }
  ]
}