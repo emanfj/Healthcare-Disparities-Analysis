{
  "nbformat": 4,
  "nbformat_minor": 0,
  "metadata": {
    "colab": {
      "provenance": []
    },
    "kernelspec": {
      "name": "python3",
      "display_name": "Python 3"
    },
    "language_info": {
      "name": "python"
    }
  },
  "cells": [
    {
      "cell_type": "code",
      "execution_count": null,
      "metadata": {
        "colab": {
          "base_uri": "https://localhost:8080/"
        },
        "id": "5I5MVXXyRk48",
        "outputId": "71aed3ef-5649-4d4d-ca1a-d44a94c39de0"
      },
      "outputs": [
        {
          "output_type": "stream",
          "name": "stdout",
          "text": [
            "Mounted at /content/drive\n"
          ]
        }
      ],
      "source": [
        "from google.colab import drive\n",
        "drive.mount('/content/drive')"
      ]
    },
    {
      "cell_type": "code",
      "source": [
        "!pip install pyspark"
      ],
      "metadata": {
        "colab": {
          "base_uri": "https://localhost:8080/"
        },
        "id": "A_D0zLxVR9t9",
        "outputId": "f57b7899-0c9b-42d3-cc65-765f34d8968f"
      },
      "execution_count": null,
      "outputs": [
        {
          "output_type": "stream",
          "name": "stdout",
          "text": [
            "Collecting pyspark\n",
            "  Downloading pyspark-3.5.1.tar.gz (317.0 MB)\n",
            "\u001b[2K     \u001b[90m━━━━━━━━━━━━━━━━━━━━━━━━━━━━━━━━━━━━━━━━\u001b[0m \u001b[32m317.0/317.0 MB\u001b[0m \u001b[31m3.6 MB/s\u001b[0m eta \u001b[36m0:00:00\u001b[0m\n",
            "\u001b[?25h  Preparing metadata (setup.py) ... \u001b[?25l\u001b[?25hdone\n",
            "Requirement already satisfied: py4j==0.10.9.7 in /usr/local/lib/python3.10/dist-packages (from pyspark) (0.10.9.7)\n",
            "Building wheels for collected packages: pyspark\n",
            "  Building wheel for pyspark (setup.py) ... \u001b[?25l\u001b[?25hdone\n",
            "  Created wheel for pyspark: filename=pyspark-3.5.1-py2.py3-none-any.whl size=317488491 sha256=5271b4ad9ff8d1f39f5fca5cf7d1f1c4c3bf7cf1ec5e98797f9aee79e6012b91\n",
            "  Stored in directory: /root/.cache/pip/wheels/80/1d/60/2c256ed38dddce2fdd93be545214a63e02fbd8d74fb0b7f3a6\n",
            "Successfully built pyspark\n",
            "Installing collected packages: pyspark\n",
            "Successfully installed pyspark-3.5.1\n"
          ]
        }
      ]
    },
    {
      "cell_type": "code",
      "source": [
        "# necessary imports\n",
        "from pyspark.sql import SparkSession\n",
        "from pyspark.sql.functions import col, when, count"
      ],
      "metadata": {
        "id": "cctXSv1oSAFm"
      },
      "execution_count": null,
      "outputs": []
    },
    {
      "cell_type": "code",
      "source": [
        "# starting spark session\n",
        "spark = SparkSession.builder.appName(\"HealthCareAnalysis\").getOrCreate()"
      ],
      "metadata": {
        "id": "DFGeKRdQSJSH"
      },
      "execution_count": null,
      "outputs": []
    },
    {
      "cell_type": "code",
      "source": [
        "# loading data\n",
        "demographics = spark.read.csv('/content/drive/MyDrive/2017_census.csv',header=True, inferSchema=True)\n",
        "heart_disease = spark.read.csv('/content/drive/MyDrive/heart_2022_no_nans.csv',header=True, inferSchema=True)"
      ],
      "metadata": {
        "id": "zHno2X-cSX6l"
      },
      "execution_count": null,
      "outputs": []
    },
    {
      "cell_type": "code",
      "source": [
        "# getting the shape of the dataframes\n",
        "demographics_rows=demographics.count()\n",
        "demographics_columns=len(demographics.columns)\n",
        "print('Rows for demographics: ',demographics_rows)\n",
        "print('Columns for demographics: ',demographics_columns)\n",
        "print('\\n')\n",
        "heartdisease_rows=heart_disease.count()\n",
        "heartdisease_columns=len(heart_disease.columns)\n",
        "print('Rows for Heart Disease data: ',heartdisease_rows)\n",
        "print('Columns for Heart Disease data: ',heartdisease_columns)"
      ],
      "metadata": {
        "colab": {
          "base_uri": "https://localhost:8080/"
        },
        "id": "g8rYGXbiTeRI",
        "outputId": "ba841370-8816-4487-c0b2-3dd073fb1e77"
      },
      "execution_count": null,
      "outputs": [
        {
          "output_type": "stream",
          "name": "stdout",
          "text": [
            "Rows for demographics:  74001\n",
            "Columns for demographics:  37\n",
            "\n",
            "\n",
            "Rows for Heart Disease data:  246022\n",
            "Columns for Heart Disease data:  40\n"
          ]
        }
      ]
    },
    {
      "cell_type": "code",
      "source": [
        "demographics.printSchema()"
      ],
      "metadata": {
        "colab": {
          "base_uri": "https://localhost:8080/"
        },
        "id": "rdiCW664wC7y",
        "outputId": "4c086339-4f1a-4c27-9b31-1cecf8543486"
      },
      "execution_count": null,
      "outputs": [
        {
          "output_type": "stream",
          "name": "stdout",
          "text": [
            "root\n",
            " |-- TractId: long (nullable = true)\n",
            " |-- State: string (nullable = true)\n",
            " |-- County: string (nullable = true)\n",
            " |-- TotalPop: integer (nullable = true)\n",
            " |-- Men: integer (nullable = true)\n",
            " |-- Women: integer (nullable = true)\n",
            " |-- Hispanic: double (nullable = true)\n",
            " |-- White: double (nullable = true)\n",
            " |-- Black: double (nullable = true)\n",
            " |-- Native: double (nullable = true)\n",
            " |-- Asian: double (nullable = true)\n",
            " |-- Pacific: double (nullable = true)\n",
            " |-- VotingAgeCitizen: integer (nullable = true)\n",
            " |-- Income: double (nullable = true)\n",
            " |-- IncomeErr: double (nullable = true)\n",
            " |-- IncomePerCap: double (nullable = true)\n",
            " |-- IncomePerCapErr: double (nullable = true)\n",
            " |-- Poverty: double (nullable = true)\n",
            " |-- ChildPoverty: double (nullable = true)\n",
            " |-- Professional: double (nullable = true)\n",
            " |-- Service: double (nullable = true)\n",
            " |-- Office: double (nullable = true)\n",
            " |-- Construction: double (nullable = true)\n",
            " |-- Production: double (nullable = true)\n",
            " |-- Drive: double (nullable = true)\n",
            " |-- Carpool: double (nullable = true)\n",
            " |-- Transit: double (nullable = true)\n",
            " |-- Walk: double (nullable = true)\n",
            " |-- OtherTransp: double (nullable = true)\n",
            " |-- WorkAtHome: double (nullable = true)\n",
            " |-- MeanCommute: double (nullable = true)\n",
            " |-- Employed: integer (nullable = true)\n",
            " |-- PrivateWork: double (nullable = true)\n",
            " |-- PublicWork: double (nullable = true)\n",
            " |-- SelfEmployed: double (nullable = true)\n",
            " |-- FamilyWork: double (nullable = true)\n",
            " |-- Unemployment: double (nullable = true)\n",
            "\n"
          ]
        }
      ]
    },
    {
      "cell_type": "code",
      "source": [
        "heart_disease.printSchema()"
      ],
      "metadata": {
        "colab": {
          "base_uri": "https://localhost:8080/"
        },
        "id": "EzjSFEQywHUS",
        "outputId": "38774138-1f61-4088-ffe1-ad39708237ce"
      },
      "execution_count": null,
      "outputs": [
        {
          "output_type": "stream",
          "name": "stdout",
          "text": [
            "root\n",
            " |-- State: string (nullable = true)\n",
            " |-- Sex: string (nullable = true)\n",
            " |-- GeneralHealth: string (nullable = true)\n",
            " |-- PhysicalHealthDays: integer (nullable = true)\n",
            " |-- MentalHealthDays: integer (nullable = true)\n",
            " |-- LastCheckupTime: string (nullable = true)\n",
            " |-- PhysicalActivities: string (nullable = true)\n",
            " |-- SleepHours: integer (nullable = true)\n",
            " |-- RemovedTeeth: string (nullable = true)\n",
            " |-- HadHeartAttack: string (nullable = true)\n",
            " |-- HadAngina: string (nullable = true)\n",
            " |-- HadStroke: string (nullable = true)\n",
            " |-- HadAsthma: string (nullable = true)\n",
            " |-- HadSkinCancer: string (nullable = true)\n",
            " |-- HadCOPD: string (nullable = true)\n",
            " |-- HadDepressiveDisorder: string (nullable = true)\n",
            " |-- HadKidneyDisease: string (nullable = true)\n",
            " |-- HadArthritis: string (nullable = true)\n",
            " |-- HadDiabetes: string (nullable = true)\n",
            " |-- DeafOrHardOfHearing: string (nullable = true)\n",
            " |-- BlindOrVisionDifficulty: string (nullable = true)\n",
            " |-- DifficultyConcentrating: string (nullable = true)\n",
            " |-- DifficultyWalking: string (nullable = true)\n",
            " |-- DifficultyDressingBathing: string (nullable = true)\n",
            " |-- DifficultyErrands: string (nullable = true)\n",
            " |-- SmokerStatus: string (nullable = true)\n",
            " |-- ECigaretteUsage: string (nullable = true)\n",
            " |-- ChestScan: string (nullable = true)\n",
            " |-- RaceEthnicityCategory: string (nullable = true)\n",
            " |-- AgeCategory: string (nullable = true)\n",
            " |-- HeightInMeters: double (nullable = true)\n",
            " |-- WeightInKilograms: double (nullable = true)\n",
            " |-- BMI: double (nullable = true)\n",
            " |-- AlcoholDrinkers: string (nullable = true)\n",
            " |-- HIVTesting: string (nullable = true)\n",
            " |-- FluVaxLast12: string (nullable = true)\n",
            " |-- PneumoVaxEver: string (nullable = true)\n",
            " |-- TetanusLast10Tdap: string (nullable = true)\n",
            " |-- HighRiskLastYear: string (nullable = true)\n",
            " |-- CovidPos: string (nullable = true)\n",
            "\n"
          ]
        }
      ]
    },
    {
      "cell_type": "code",
      "source": [
        "#formatting of columns for demographics data\n",
        "demographics = demographics \\\n",
        "    .withColumnRenamed(\"TotalPop\", \"TotalPopulation\") \\\n",
        "    .withColumnRenamed(\"IncomeErr\", \"IncomeError\") \\\n",
        "    .withColumnRenamed(\"IncomePerCap\", \"IncomePerCapita\") \\\n",
        "    .withColumnRenamed(\"IncomePerCapErr\", \"IncomePerCapitaError\") \\\n",
        "    .withColumnRenamed(\"OtherTransp\", \"OtherTransportation\")"
      ],
      "metadata": {
        "id": "LXEDZdXDt6Au"
      },
      "execution_count": null,
      "outputs": []
    },
    {
      "cell_type": "code",
      "source": [
        "# calculate the percentage of missing values in each column of demographics data\n",
        "# healthcare data has no nans\n",
        "\n",
        "for c in demographics.columns:\n",
        "  missing_count = demographics.select(count(when(col(c).isNull(), col(c)))).collect()[0][0]\n",
        "  missing_percentage=(count/demographics_rows)*100\n",
        "\n",
        "# print the missing value percentage for each column\n",
        "print(\"Missing value percentage for each column:\")\n",
        "print(missing_percentage)"
      ],
      "metadata": {
        "colab": {
          "base_uri": "https://localhost:8080/",
          "height": 211
        },
        "id": "m6hIVLBYwkv-",
        "outputId": "b697d0da-c2af-4cd8-b99f-0e462c378954"
      },
      "execution_count": null,
      "outputs": [
        {
          "output_type": "error",
          "ename": "TypeError",
          "evalue": "'str' object is not callable",
          "traceback": [
            "\u001b[0;31m---------------------------------------------------------------------------\u001b[0m",
            "\u001b[0;31mTypeError\u001b[0m                                 Traceback (most recent call last)",
            "\u001b[0;32m<ipython-input-26-4e7309dc1726>\u001b[0m in \u001b[0;36m<cell line: 4>\u001b[0;34m()\u001b[0m\n\u001b[1;32m      3\u001b[0m \u001b[0;34m\u001b[0m\u001b[0m\n\u001b[1;32m      4\u001b[0m \u001b[0;32mfor\u001b[0m \u001b[0mc\u001b[0m \u001b[0;32min\u001b[0m \u001b[0mdemographics\u001b[0m\u001b[0;34m.\u001b[0m\u001b[0mcolumns\u001b[0m\u001b[0;34m:\u001b[0m\u001b[0;34m\u001b[0m\u001b[0;34m\u001b[0m\u001b[0m\n\u001b[0;32m----> 5\u001b[0;31m   \u001b[0mmissing_count\u001b[0m \u001b[0;34m=\u001b[0m \u001b[0mdemographics\u001b[0m\u001b[0;34m.\u001b[0m\u001b[0mselect\u001b[0m\u001b[0;34m(\u001b[0m\u001b[0mcount\u001b[0m\u001b[0;34m(\u001b[0m\u001b[0mwhen\u001b[0m\u001b[0;34m(\u001b[0m\u001b[0mcol\u001b[0m\u001b[0;34m(\u001b[0m\u001b[0mc\u001b[0m\u001b[0;34m)\u001b[0m\u001b[0;34m.\u001b[0m\u001b[0misNull\u001b[0m\u001b[0;34m(\u001b[0m\u001b[0;34m)\u001b[0m\u001b[0;34m,\u001b[0m \u001b[0mcol\u001b[0m\u001b[0;34m(\u001b[0m\u001b[0mc\u001b[0m\u001b[0;34m)\u001b[0m\u001b[0;34m)\u001b[0m\u001b[0;34m)\u001b[0m\u001b[0;34m)\u001b[0m\u001b[0;34m.\u001b[0m\u001b[0mcollect\u001b[0m\u001b[0;34m(\u001b[0m\u001b[0;34m)\u001b[0m\u001b[0;34m[\u001b[0m\u001b[0;36m0\u001b[0m\u001b[0;34m]\u001b[0m\u001b[0;34m[\u001b[0m\u001b[0;36m0\u001b[0m\u001b[0;34m]\u001b[0m\u001b[0;34m\u001b[0m\u001b[0;34m\u001b[0m\u001b[0m\n\u001b[0m\u001b[1;32m      6\u001b[0m   \u001b[0mmissing_percentage\u001b[0m\u001b[0;34m=\u001b[0m\u001b[0;34m(\u001b[0m\u001b[0mcount\u001b[0m\u001b[0;34m/\u001b[0m\u001b[0mdemographics_rows\u001b[0m\u001b[0;34m)\u001b[0m\u001b[0;34m*\u001b[0m\u001b[0;36m100\u001b[0m\u001b[0;34m\u001b[0m\u001b[0;34m\u001b[0m\u001b[0m\n\u001b[1;32m      7\u001b[0m \u001b[0;34m\u001b[0m\u001b[0m\n",
            "\u001b[0;31mTypeError\u001b[0m: 'str' object is not callable"
          ]
        }
      ]
    },
    {
      "cell_type": "code",
      "source": [
        "numerical_columns = demographics.select_dtypes(include=['int64', 'float64']).columns\n",
        "for column in numerical_columns:\n",
        "    if demographics[column].isnull().any():\n",
        "        mean_value = demographics[column].mean()\n",
        "        demographics[column].fillna(mean_value, inplace=True)"
      ],
      "metadata": {
        "id": "BxD3ldAJ-xst"
      },
      "execution_count": null,
      "outputs": []
    },
    {
      "cell_type": "markdown",
      "source": [
        "### Insights:\n",
        "1. High risk groups: which demographic factors correlate with a higher prevalance of heart disease Target-> preventive healthcare initaitves for high risk populations.\n",
        "2. Identify socio-economic factors that might influence access to healthcare or healthy lifestyles, potentially leading to higher heart disease risk.\n",
        "3. Investigate how factors like physical activity, sleep patterns, smoking status, and alcohol consumption relate to heart disease risk within different demographic groups.\n",
        "4. Analyze if there are variations in risk factors based on geographic location (CensusTract data).\n",
        "5. Use machine learning algorithms to develop a model that predicts heart disease risk based on a combination of demographic and health data. This model can be used for early detection and intervention.\n",
        "6. Analyze healthcare resource utilization (hospitals, specialists) in areas with high heart disease risk. This can help optimize resource allocation and improve preventative care accessibility.\n",
        "7. Conduct geospatial analysis to map the distribution of heart diseases and demographic characteristics at a regional or local level. Identify areas with higher disease burden and demographic disparities, which can inform targeted interventions and resource allocation.\n"
      ],
      "metadata": {
        "id": "2_mHWQPGACvY"
      }
    },
    {
      "cell_type": "code",
      "source": [
        "import pandas as pd\n",
        "import matplotlib.pyplot as plt\n",
        "import seaborn as sns\n",
        "import numpy as np"
      ],
      "metadata": {
        "id": "IUpA1eCbAEbA"
      },
      "execution_count": null,
      "outputs": []
    },
    {
      "cell_type": "code",
      "source": [
        "# Read the CSV file into a pandas DataFrame\n",
        "df = pd.read_csv('heart_2022_no_nans.csv')"
      ],
      "metadata": {
        "id": "xL5F-H71sPwY"
      },
      "execution_count": null,
      "outputs": []
    },
    {
      "cell_type": "code",
      "source": [
        "df.head()"
      ],
      "metadata": {
        "id": "8EDPRLzSsRLq"
      },
      "execution_count": null,
      "outputs": []
    },
    {
      "cell_type": "code",
      "source": [
        "print(\"\\nColumn Data Types:\")\n",
        "df.info()"
      ],
      "metadata": {
        "id": "T_NzuYNosSoU"
      },
      "execution_count": null,
      "outputs": []
    },
    {
      "cell_type": "code",
      "source": [
        "print(\"Missing values per column:\")\n",
        "df.isnull().sum()"
      ],
      "metadata": {
        "id": "FUP7yxcVsWWn"
      },
      "execution_count": null,
      "outputs": []
    },
    {
      "cell_type": "code",
      "source": [
        "# Function for setting style and size of plot\n",
        "def set_size_style(width, height, style=None):\n",
        "    plt.figure(figsize=(width, height))\n",
        "    if style != None:\n",
        "        sns.set_style(style)\n",
        "\n",
        "# Function for customizating the plot\n",
        "def customize_plot(plot, title:str, xlabel:str,  ylabel:str, title_font:int, label_font:int):\n",
        "    plot.set_title(title, fontsize = title_font, weight='bold')\n",
        "    plot.set_xlabel(xlabel, fontsize = label_font, weight='bold')\n",
        "    plot.set_ylabel(ylabel, fontsize = label_font, weight='bold')"
      ],
      "metadata": {
        "id": "3HWjB2j4sYxf"
      },
      "execution_count": null,
      "outputs": []
    },
    {
      "cell_type": "code",
      "source": [
        "df.shape"
      ],
      "metadata": {
        "id": "5B_WWPrTsaVY"
      },
      "execution_count": null,
      "outputs": []
    },
    {
      "cell_type": "code",
      "source": [
        "# Convert categorical columns to 'category' type\n",
        "categorical_columns = ['HeartDisease', 'Smoking', 'AlcoholDrinking', 'Stroke', 'DiffWalking',\n",
        "                       'Sex', 'AgeCategory', 'Race', 'Diabetic', 'PhysicalActivity', 'GenHealth',\n",
        "                       'Asthma', 'KidneyDisease', 'SkinCancer']\n",
        "\n",
        "for column in categorical_columns:\n",
        "    df[column] = df[column].astype('category')"
      ],
      "metadata": {
        "id": "7vZyKMJZsbni"
      },
      "execution_count": null,
      "outputs": []
    },
    {
      "cell_type": "code",
      "source": [
        "set_size_style(8,10,'whitegrid')\n",
        "df.isna().sum().plot(kind='barh')"
      ],
      "metadata": {
        "id": "dIF6ld8dsdAx"
      },
      "execution_count": null,
      "outputs": []
    }
  ]
}